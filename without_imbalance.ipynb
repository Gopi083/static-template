{
  "nbformat": 4,
  "nbformat_minor": 0,
  "metadata": {
    "colab": {
      "provenance": [],
      "include_colab_link": true
    },
    "kernelspec": {
      "name": "python3",
      "display_name": "Python 3"
    },
    "language_info": {
      "name": "python"
    }
  },
  "cells": [
    {
      "cell_type": "markdown",
      "metadata": {
        "id": "view-in-github",
        "colab_type": "text"
      },
      "source": [
        "<a href=\"https://colab.research.google.com/github/Gopi083/static-template/blob/master/without_imbalance.ipynb\" target=\"_parent\"><img src=\"https://colab.research.google.com/assets/colab-badge.svg\" alt=\"Open In Colab\"/></a>"
      ]
    },
    {
      "cell_type": "code",
      "execution_count": 1,
      "metadata": {
        "id": "-TR5jkdxOe6i"
      },
      "outputs": [],
      "source": [
        "import numpy as np\n",
        "import pandas as pd\n",
        "from sklearn.model_selection import train_test_split\n",
        "from sklearn.preprocessing import StandardScaler\n",
        "from sklearn.metrics import confusion_matrix, accuracy_score\n",
        "from imblearn.over_sampling import SMOTE\n",
        "from tensorflow.keras.models import Sequential\n",
        "from tensorflow.keras.layers import LSTM, Dense, Dropout\n",
        "from tensorflow.keras.optimizers import Adam"
      ]
    },
    {
      "cell_type": "code",
      "source": [
        "df=pd.read_csv('/content/p20.csv')"
      ],
      "metadata": {
        "id": "X2HQSXCiOhyN"
      },
      "execution_count": 2,
      "outputs": []
    },
    {
      "cell_type": "code",
      "source": [
        "df.info()"
      ],
      "metadata": {
        "colab": {
          "base_uri": "https://localhost:8080/"
        },
        "id": "prf61hBBOh7j",
        "outputId": "86fc8cc4-ec55-41bc-f03d-46744a4c3d6c"
      },
      "execution_count": 3,
      "outputs": [
        {
          "output_type": "stream",
          "name": "stdout",
          "text": [
            "<class 'pandas.core.frame.DataFrame'>\n",
            "RangeIndex: 330452 entries, 0 to 330451\n",
            "Data columns (total 24 columns):\n",
            " #   Column       Non-Null Count   Dtype  \n",
            "---  ------       --------------   -----  \n",
            " 0   Unnamed: 0   330452 non-null  int64  \n",
            " 1   Date         330452 non-null  object \n",
            " 2   User         330452 non-null  object \n",
            " 3   L1_norm      330452 non-null  float64\n",
            " 4   L2_norm      330452 non-null  float64\n",
            " 5   L3_norm      330452 non-null  float64\n",
            " 6   L4_norm      330452 non-null  float64\n",
            " 7   L5_norm      330452 non-null  float64\n",
            " 8   L6_norm      330452 non-null  float64\n",
            " 9   L7_norm      330452 non-null  float64\n",
            " 10  L8_norm      330452 non-null  float64\n",
            " 11  L9_norm      330452 non-null  float64\n",
            " 12  E1_norm      330452 non-null  float64\n",
            " 13  E2_norm      330452 non-null  float64\n",
            " 14  E3_norm      330452 non-null  float64\n",
            " 15  E4_norm      330452 non-null  float64\n",
            " 16  E5_norm      330452 non-null  float64\n",
            " 17  F1_norm      330452 non-null  float64\n",
            " 18  H1_norm      330452 non-null  float64\n",
            " 19  H2_norm      330452 non-null  float64\n",
            " 20  H3_norm      330452 non-null  float64\n",
            " 21  D1_norm      330452 non-null  float64\n",
            " 22  D2_norm      330452 non-null  float64\n",
            " 23  Class_Label  330452 non-null  float64\n",
            "dtypes: float64(21), int64(1), object(2)\n",
            "memory usage: 60.5+ MB\n"
          ]
        }
      ]
    },
    {
      "cell_type": "code",
      "source": [
        "del df[df.columns[0]]"
      ],
      "metadata": {
        "id": "5g3USW-nOh-r"
      },
      "execution_count": 4,
      "outputs": []
    },
    {
      "cell_type": "code",
      "source": [
        "y=df['Class_Label']"
      ],
      "metadata": {
        "id": "650drGdnOiD3"
      },
      "execution_count": 5,
      "outputs": []
    },
    {
      "cell_type": "code",
      "source": [
        "y.info()"
      ],
      "metadata": {
        "colab": {
          "base_uri": "https://localhost:8080/"
        },
        "id": "ybYdADI5OiJl",
        "outputId": "db5a58f9-0afc-4e16-c9b8-33515e6c6de3"
      },
      "execution_count": 6,
      "outputs": [
        {
          "output_type": "stream",
          "name": "stdout",
          "text": [
            "<class 'pandas.core.series.Series'>\n",
            "RangeIndex: 330452 entries, 0 to 330451\n",
            "Series name: Class_Label\n",
            "Non-Null Count   Dtype  \n",
            "--------------   -----  \n",
            "330452 non-null  float64\n",
            "dtypes: float64(1)\n",
            "memory usage: 2.5 MB\n"
          ]
        }
      ]
    },
    {
      "cell_type": "code",
      "source": [
        "df=df.drop(['Date'],axis=1)"
      ],
      "metadata": {
        "id": "aqoigiHaOiPD"
      },
      "execution_count": 7,
      "outputs": []
    },
    {
      "cell_type": "code",
      "source": [
        "df=df.drop(['User'],axis=1)"
      ],
      "metadata": {
        "id": "RsDhhi7eOiSF"
      },
      "execution_count": 8,
      "outputs": []
    },
    {
      "cell_type": "code",
      "source": [
        "X = df.drop('Class_Label', axis=1).values\n",
        "y = df['Class_Label'].values"
      ],
      "metadata": {
        "id": "rT2MVw1yyhxb"
      },
      "execution_count": 9,
      "outputs": []
    },
    {
      "cell_type": "code",
      "source": [
        "df.head()"
      ],
      "metadata": {
        "colab": {
          "base_uri": "https://localhost:8080/",
          "height": 256
        },
        "id": "U27ABWyCOiUv",
        "outputId": "89709100-5bf6-4062-ea5d-f65b0c4e3e0a"
      },
      "execution_count": 10,
      "outputs": [
        {
          "output_type": "execute_result",
          "data": {
            "text/plain": [
              "    L1_norm   L2_norm  L3_norm  L4_norm  L5_norm  L6_norm  L7_norm  L8_norm  \\\n",
              "0  0.884238  0.206870      0.0      0.0      0.5      0.0      0.0      0.0   \n",
              "1  0.871422  0.402637      0.0      0.0      1.0      0.0      1.0      0.0   \n",
              "2  0.743272  0.467814      0.0      0.0      1.0      0.0      1.0      0.0   \n",
              "3  0.704827  0.183623      0.0      0.0      0.0      0.0      0.0      0.0   \n",
              "4  0.704827  0.183623      0.0      0.0      0.0      0.0      0.0      0.0   \n",
              "\n",
              "   L9_norm   E1_norm  ...   E3_norm   E4_norm   E5_norm  F1_norm  H1_norm  \\\n",
              "0      0.0  0.500000  ...  0.416667  0.766336  0.500000      0.0      0.0   \n",
              "1      0.0  0.222222  ...  0.666667  0.552669  0.431818      0.0      0.0   \n",
              "2      0.0  0.555556  ...  1.000000  0.703614  0.477273      0.0      0.0   \n",
              "3      0.0  0.388889  ...  0.166667  0.637735  0.409091      0.0      0.0   \n",
              "4      0.0  0.166667  ...  0.000000  0.708862  0.090909      0.0      0.0   \n",
              "\n",
              "    H2_norm  H3_norm  D1_norm   D2_norm  Class_Label  \n",
              "0  0.071429      0.0      0.0  0.000000          0.0  \n",
              "1  0.000000      0.0      0.0  0.333333          0.0  \n",
              "2  0.035714      0.0      0.0  0.000000          0.0  \n",
              "3  0.000000      0.0      0.0  0.777778          0.0  \n",
              "4  0.000000      0.0      0.0  0.000000          0.0  \n",
              "\n",
              "[5 rows x 21 columns]"
            ],
            "text/html": [
              "\n",
              "  <div id=\"df-7dd25ece-5eb5-4c1e-a6f8-c0b0e1d9deea\" class=\"colab-df-container\">\n",
              "    <div>\n",
              "<style scoped>\n",
              "    .dataframe tbody tr th:only-of-type {\n",
              "        vertical-align: middle;\n",
              "    }\n",
              "\n",
              "    .dataframe tbody tr th {\n",
              "        vertical-align: top;\n",
              "    }\n",
              "\n",
              "    .dataframe thead th {\n",
              "        text-align: right;\n",
              "    }\n",
              "</style>\n",
              "<table border=\"1\" class=\"dataframe\">\n",
              "  <thead>\n",
              "    <tr style=\"text-align: right;\">\n",
              "      <th></th>\n",
              "      <th>L1_norm</th>\n",
              "      <th>L2_norm</th>\n",
              "      <th>L3_norm</th>\n",
              "      <th>L4_norm</th>\n",
              "      <th>L5_norm</th>\n",
              "      <th>L6_norm</th>\n",
              "      <th>L7_norm</th>\n",
              "      <th>L8_norm</th>\n",
              "      <th>L9_norm</th>\n",
              "      <th>E1_norm</th>\n",
              "      <th>...</th>\n",
              "      <th>E3_norm</th>\n",
              "      <th>E4_norm</th>\n",
              "      <th>E5_norm</th>\n",
              "      <th>F1_norm</th>\n",
              "      <th>H1_norm</th>\n",
              "      <th>H2_norm</th>\n",
              "      <th>H3_norm</th>\n",
              "      <th>D1_norm</th>\n",
              "      <th>D2_norm</th>\n",
              "      <th>Class_Label</th>\n",
              "    </tr>\n",
              "  </thead>\n",
              "  <tbody>\n",
              "    <tr>\n",
              "      <th>0</th>\n",
              "      <td>0.884238</td>\n",
              "      <td>0.206870</td>\n",
              "      <td>0.0</td>\n",
              "      <td>0.0</td>\n",
              "      <td>0.5</td>\n",
              "      <td>0.0</td>\n",
              "      <td>0.0</td>\n",
              "      <td>0.0</td>\n",
              "      <td>0.0</td>\n",
              "      <td>0.500000</td>\n",
              "      <td>...</td>\n",
              "      <td>0.416667</td>\n",
              "      <td>0.766336</td>\n",
              "      <td>0.500000</td>\n",
              "      <td>0.0</td>\n",
              "      <td>0.0</td>\n",
              "      <td>0.071429</td>\n",
              "      <td>0.0</td>\n",
              "      <td>0.0</td>\n",
              "      <td>0.000000</td>\n",
              "      <td>0.0</td>\n",
              "    </tr>\n",
              "    <tr>\n",
              "      <th>1</th>\n",
              "      <td>0.871422</td>\n",
              "      <td>0.402637</td>\n",
              "      <td>0.0</td>\n",
              "      <td>0.0</td>\n",
              "      <td>1.0</td>\n",
              "      <td>0.0</td>\n",
              "      <td>1.0</td>\n",
              "      <td>0.0</td>\n",
              "      <td>0.0</td>\n",
              "      <td>0.222222</td>\n",
              "      <td>...</td>\n",
              "      <td>0.666667</td>\n",
              "      <td>0.552669</td>\n",
              "      <td>0.431818</td>\n",
              "      <td>0.0</td>\n",
              "      <td>0.0</td>\n",
              "      <td>0.000000</td>\n",
              "      <td>0.0</td>\n",
              "      <td>0.0</td>\n",
              "      <td>0.333333</td>\n",
              "      <td>0.0</td>\n",
              "    </tr>\n",
              "    <tr>\n",
              "      <th>2</th>\n",
              "      <td>0.743272</td>\n",
              "      <td>0.467814</td>\n",
              "      <td>0.0</td>\n",
              "      <td>0.0</td>\n",
              "      <td>1.0</td>\n",
              "      <td>0.0</td>\n",
              "      <td>1.0</td>\n",
              "      <td>0.0</td>\n",
              "      <td>0.0</td>\n",
              "      <td>0.555556</td>\n",
              "      <td>...</td>\n",
              "      <td>1.000000</td>\n",
              "      <td>0.703614</td>\n",
              "      <td>0.477273</td>\n",
              "      <td>0.0</td>\n",
              "      <td>0.0</td>\n",
              "      <td>0.035714</td>\n",
              "      <td>0.0</td>\n",
              "      <td>0.0</td>\n",
              "      <td>0.000000</td>\n",
              "      <td>0.0</td>\n",
              "    </tr>\n",
              "    <tr>\n",
              "      <th>3</th>\n",
              "      <td>0.704827</td>\n",
              "      <td>0.183623</td>\n",
              "      <td>0.0</td>\n",
              "      <td>0.0</td>\n",
              "      <td>0.0</td>\n",
              "      <td>0.0</td>\n",
              "      <td>0.0</td>\n",
              "      <td>0.0</td>\n",
              "      <td>0.0</td>\n",
              "      <td>0.388889</td>\n",
              "      <td>...</td>\n",
              "      <td>0.166667</td>\n",
              "      <td>0.637735</td>\n",
              "      <td>0.409091</td>\n",
              "      <td>0.0</td>\n",
              "      <td>0.0</td>\n",
              "      <td>0.000000</td>\n",
              "      <td>0.0</td>\n",
              "      <td>0.0</td>\n",
              "      <td>0.777778</td>\n",
              "      <td>0.0</td>\n",
              "    </tr>\n",
              "    <tr>\n",
              "      <th>4</th>\n",
              "      <td>0.704827</td>\n",
              "      <td>0.183623</td>\n",
              "      <td>0.0</td>\n",
              "      <td>0.0</td>\n",
              "      <td>0.0</td>\n",
              "      <td>0.0</td>\n",
              "      <td>0.0</td>\n",
              "      <td>0.0</td>\n",
              "      <td>0.0</td>\n",
              "      <td>0.166667</td>\n",
              "      <td>...</td>\n",
              "      <td>0.000000</td>\n",
              "      <td>0.708862</td>\n",
              "      <td>0.090909</td>\n",
              "      <td>0.0</td>\n",
              "      <td>0.0</td>\n",
              "      <td>0.000000</td>\n",
              "      <td>0.0</td>\n",
              "      <td>0.0</td>\n",
              "      <td>0.000000</td>\n",
              "      <td>0.0</td>\n",
              "    </tr>\n",
              "  </tbody>\n",
              "</table>\n",
              "<p>5 rows × 21 columns</p>\n",
              "</div>\n",
              "    <div class=\"colab-df-buttons\">\n",
              "\n",
              "  <div class=\"colab-df-container\">\n",
              "    <button class=\"colab-df-convert\" onclick=\"convertToInteractive('df-7dd25ece-5eb5-4c1e-a6f8-c0b0e1d9deea')\"\n",
              "            title=\"Convert this dataframe to an interactive table.\"\n",
              "            style=\"display:none;\">\n",
              "\n",
              "  <svg xmlns=\"http://www.w3.org/2000/svg\" height=\"24px\" viewBox=\"0 -960 960 960\">\n",
              "    <path d=\"M120-120v-720h720v720H120Zm60-500h600v-160H180v160Zm220 220h160v-160H400v160Zm0 220h160v-160H400v160ZM180-400h160v-160H180v160Zm440 0h160v-160H620v160ZM180-180h160v-160H180v160Zm440 0h160v-160H620v160Z\"/>\n",
              "  </svg>\n",
              "    </button>\n",
              "\n",
              "  <style>\n",
              "    .colab-df-container {\n",
              "      display:flex;\n",
              "      gap: 12px;\n",
              "    }\n",
              "\n",
              "    .colab-df-convert {\n",
              "      background-color: #E8F0FE;\n",
              "      border: none;\n",
              "      border-radius: 50%;\n",
              "      cursor: pointer;\n",
              "      display: none;\n",
              "      fill: #1967D2;\n",
              "      height: 32px;\n",
              "      padding: 0 0 0 0;\n",
              "      width: 32px;\n",
              "    }\n",
              "\n",
              "    .colab-df-convert:hover {\n",
              "      background-color: #E2EBFA;\n",
              "      box-shadow: 0px 1px 2px rgba(60, 64, 67, 0.3), 0px 1px 3px 1px rgba(60, 64, 67, 0.15);\n",
              "      fill: #174EA6;\n",
              "    }\n",
              "\n",
              "    .colab-df-buttons div {\n",
              "      margin-bottom: 4px;\n",
              "    }\n",
              "\n",
              "    [theme=dark] .colab-df-convert {\n",
              "      background-color: #3B4455;\n",
              "      fill: #D2E3FC;\n",
              "    }\n",
              "\n",
              "    [theme=dark] .colab-df-convert:hover {\n",
              "      background-color: #434B5C;\n",
              "      box-shadow: 0px 1px 3px 1px rgba(0, 0, 0, 0.15);\n",
              "      filter: drop-shadow(0px 1px 2px rgba(0, 0, 0, 0.3));\n",
              "      fill: #FFFFFF;\n",
              "    }\n",
              "  </style>\n",
              "\n",
              "    <script>\n",
              "      const buttonEl =\n",
              "        document.querySelector('#df-7dd25ece-5eb5-4c1e-a6f8-c0b0e1d9deea button.colab-df-convert');\n",
              "      buttonEl.style.display =\n",
              "        google.colab.kernel.accessAllowed ? 'block' : 'none';\n",
              "\n",
              "      async function convertToInteractive(key) {\n",
              "        const element = document.querySelector('#df-7dd25ece-5eb5-4c1e-a6f8-c0b0e1d9deea');\n",
              "        const dataTable =\n",
              "          await google.colab.kernel.invokeFunction('convertToInteractive',\n",
              "                                                    [key], {});\n",
              "        if (!dataTable) return;\n",
              "\n",
              "        const docLinkHtml = 'Like what you see? Visit the ' +\n",
              "          '<a target=\"_blank\" href=https://colab.research.google.com/notebooks/data_table.ipynb>data table notebook</a>'\n",
              "          + ' to learn more about interactive tables.';\n",
              "        element.innerHTML = '';\n",
              "        dataTable['output_type'] = 'display_data';\n",
              "        await google.colab.output.renderOutput(dataTable, element);\n",
              "        const docLink = document.createElement('div');\n",
              "        docLink.innerHTML = docLinkHtml;\n",
              "        element.appendChild(docLink);\n",
              "      }\n",
              "    </script>\n",
              "  </div>\n",
              "\n",
              "\n",
              "<div id=\"df-6537a26c-47cf-440b-bea7-30fe7c3ef2b3\">\n",
              "  <button class=\"colab-df-quickchart\" onclick=\"quickchart('df-6537a26c-47cf-440b-bea7-30fe7c3ef2b3')\"\n",
              "            title=\"Suggest charts\"\n",
              "            style=\"display:none;\">\n",
              "\n",
              "<svg xmlns=\"http://www.w3.org/2000/svg\" height=\"24px\"viewBox=\"0 0 24 24\"\n",
              "     width=\"24px\">\n",
              "    <g>\n",
              "        <path d=\"M19 3H5c-1.1 0-2 .9-2 2v14c0 1.1.9 2 2 2h14c1.1 0 2-.9 2-2V5c0-1.1-.9-2-2-2zM9 17H7v-7h2v7zm4 0h-2V7h2v10zm4 0h-2v-4h2v4z\"/>\n",
              "    </g>\n",
              "</svg>\n",
              "  </button>\n",
              "\n",
              "<style>\n",
              "  .colab-df-quickchart {\n",
              "      --bg-color: #E8F0FE;\n",
              "      --fill-color: #1967D2;\n",
              "      --hover-bg-color: #E2EBFA;\n",
              "      --hover-fill-color: #174EA6;\n",
              "      --disabled-fill-color: #AAA;\n",
              "      --disabled-bg-color: #DDD;\n",
              "  }\n",
              "\n",
              "  [theme=dark] .colab-df-quickchart {\n",
              "      --bg-color: #3B4455;\n",
              "      --fill-color: #D2E3FC;\n",
              "      --hover-bg-color: #434B5C;\n",
              "      --hover-fill-color: #FFFFFF;\n",
              "      --disabled-bg-color: #3B4455;\n",
              "      --disabled-fill-color: #666;\n",
              "  }\n",
              "\n",
              "  .colab-df-quickchart {\n",
              "    background-color: var(--bg-color);\n",
              "    border: none;\n",
              "    border-radius: 50%;\n",
              "    cursor: pointer;\n",
              "    display: none;\n",
              "    fill: var(--fill-color);\n",
              "    height: 32px;\n",
              "    padding: 0;\n",
              "    width: 32px;\n",
              "  }\n",
              "\n",
              "  .colab-df-quickchart:hover {\n",
              "    background-color: var(--hover-bg-color);\n",
              "    box-shadow: 0 1px 2px rgba(60, 64, 67, 0.3), 0 1px 3px 1px rgba(60, 64, 67, 0.15);\n",
              "    fill: var(--button-hover-fill-color);\n",
              "  }\n",
              "\n",
              "  .colab-df-quickchart-complete:disabled,\n",
              "  .colab-df-quickchart-complete:disabled:hover {\n",
              "    background-color: var(--disabled-bg-color);\n",
              "    fill: var(--disabled-fill-color);\n",
              "    box-shadow: none;\n",
              "  }\n",
              "\n",
              "  .colab-df-spinner {\n",
              "    border: 2px solid var(--fill-color);\n",
              "    border-color: transparent;\n",
              "    border-bottom-color: var(--fill-color);\n",
              "    animation:\n",
              "      spin 1s steps(1) infinite;\n",
              "  }\n",
              "\n",
              "  @keyframes spin {\n",
              "    0% {\n",
              "      border-color: transparent;\n",
              "      border-bottom-color: var(--fill-color);\n",
              "      border-left-color: var(--fill-color);\n",
              "    }\n",
              "    20% {\n",
              "      border-color: transparent;\n",
              "      border-left-color: var(--fill-color);\n",
              "      border-top-color: var(--fill-color);\n",
              "    }\n",
              "    30% {\n",
              "      border-color: transparent;\n",
              "      border-left-color: var(--fill-color);\n",
              "      border-top-color: var(--fill-color);\n",
              "      border-right-color: var(--fill-color);\n",
              "    }\n",
              "    40% {\n",
              "      border-color: transparent;\n",
              "      border-right-color: var(--fill-color);\n",
              "      border-top-color: var(--fill-color);\n",
              "    }\n",
              "    60% {\n",
              "      border-color: transparent;\n",
              "      border-right-color: var(--fill-color);\n",
              "    }\n",
              "    80% {\n",
              "      border-color: transparent;\n",
              "      border-right-color: var(--fill-color);\n",
              "      border-bottom-color: var(--fill-color);\n",
              "    }\n",
              "    90% {\n",
              "      border-color: transparent;\n",
              "      border-bottom-color: var(--fill-color);\n",
              "    }\n",
              "  }\n",
              "</style>\n",
              "\n",
              "  <script>\n",
              "    async function quickchart(key) {\n",
              "      const quickchartButtonEl =\n",
              "        document.querySelector('#' + key + ' button');\n",
              "      quickchartButtonEl.disabled = true;  // To prevent multiple clicks.\n",
              "      quickchartButtonEl.classList.add('colab-df-spinner');\n",
              "      try {\n",
              "        const charts = await google.colab.kernel.invokeFunction(\n",
              "            'suggestCharts', [key], {});\n",
              "      } catch (error) {\n",
              "        console.error('Error during call to suggestCharts:', error);\n",
              "      }\n",
              "      quickchartButtonEl.classList.remove('colab-df-spinner');\n",
              "      quickchartButtonEl.classList.add('colab-df-quickchart-complete');\n",
              "    }\n",
              "    (() => {\n",
              "      let quickchartButtonEl =\n",
              "        document.querySelector('#df-6537a26c-47cf-440b-bea7-30fe7c3ef2b3 button');\n",
              "      quickchartButtonEl.style.display =\n",
              "        google.colab.kernel.accessAllowed ? 'block' : 'none';\n",
              "    })();\n",
              "  </script>\n",
              "</div>\n",
              "    </div>\n",
              "  </div>\n"
            ]
          },
          "metadata": {},
          "execution_count": 10
        }
      ]
    },
    {
      "cell_type": "code",
      "source": [
        "y = np.nan_to_num(y, nan=-1)"
      ],
      "metadata": {
        "id": "RvJoAUay1F2K"
      },
      "execution_count": 11,
      "outputs": []
    },
    {
      "cell_type": "code",
      "source": [
        "X = np.nan_to_num(X, nan=-1)"
      ],
      "metadata": {
        "id": "Z4hdhZdx1jQx"
      },
      "execution_count": 12,
      "outputs": []
    },
    {
      "cell_type": "code",
      "source": [
        "print(pd.Series(y).value_counts())"
      ],
      "metadata": {
        "id": "82jGw0tJ2CaO",
        "colab": {
          "base_uri": "https://localhost:8080/"
        },
        "outputId": "23a5b9d6-b504-47cb-b785-8836f26e678d"
      },
      "execution_count": 13,
      "outputs": [
        {
          "output_type": "stream",
          "name": "stdout",
          "text": [
            "0.0    329486\n",
            "1.0       966\n",
            "dtype: int64\n"
          ]
        }
      ]
    },
    {
      "cell_type": "code",
      "source": [
        "X_train,X_test,y_train,y_test=train_test_split(X,y,test_size=0.2,random_state=42)\n",
        "\n",
        "# Reshape the data for LSTM input with sequential behavior\n",
        "X_train = X_train.reshape(X_train.shape[0], 1, X_train.shape[1])\n",
        "X_test = X_test.reshape(X_test.shape[0], 1, X_test.shape[1])"
      ],
      "metadata": {
        "id": "TD81M1bbE65y"
      },
      "execution_count": 15,
      "outputs": []
    },
    {
      "cell_type": "code",
      "source": [
        "from imblearn.under_sampling import RandomUnderSampler\n",
        "\n",
        "# Undersample the majority class\n",
        "undersampler = RandomUnderSampler(random_state=42)\n",
        "X_resampled, y_resampled = undersampler.fit_resample(X, y)"
      ],
      "metadata": {
        "id": "9cVIb5EEq3LV"
      },
      "execution_count": 16,
      "outputs": []
    },
    {
      "cell_type": "code",
      "source": [
        "scaler = StandardScaler()\n",
        "X_resampled = scaler.fit_transform(X_resampled)"
      ],
      "metadata": {
        "id": "zpjYrCXsq6Aq"
      },
      "execution_count": 17,
      "outputs": []
    },
    {
      "cell_type": "code",
      "source": [
        "# Build the LSTM model\n",
        "model = Sequential()\n",
        "model.add(LSTM(units=32, return_sequences=True, input_shape=(X_train.shape[1], X_train.shape[2])))\n",
        "model.add(LSTM(units=32, return_sequences=True))\n",
        "model.add(LSTM(units=32))\n",
        "model.add(Dense(units=1, activation='sigmoid'))"
      ],
      "metadata": {
        "id": "04gVH_D-E-bF"
      },
      "execution_count": 18,
      "outputs": []
    },
    {
      "cell_type": "code",
      "source": [
        "# Compile the model\n",
        "model.compile(optimizer=Adam(learning_rate=0.001), loss='binary_crossentropy', metrics=['accuracy'])\n",
        "\n",
        "# Train the model\n",
        "model.fit(X_train, y_train, epochs=20, batch_size=32, validation_data=(X_test, y_test))"
      ],
      "metadata": {
        "colab": {
          "base_uri": "https://localhost:8080/"
        },
        "id": "7guwuDKjFCSg",
        "outputId": "385b0349-ca7d-4f4f-9019-1b702e971c31"
      },
      "execution_count": null,
      "outputs": [
        {
          "output_type": "stream",
          "name": "stdout",
          "text": [
            "Epoch 1/20\n",
            "8262/8262 [==============================] - 68s 8ms/step - loss: 0.0234 - accuracy: 0.9970 - val_loss: 0.0151 - val_accuracy: 0.9973\n",
            "Epoch 2/20\n",
            "8262/8262 [==============================] - 63s 8ms/step - loss: 0.0147 - accuracy: 0.9973 - val_loss: 0.0129 - val_accuracy: 0.9973\n",
            "Epoch 3/20\n",
            "8262/8262 [==============================] - 61s 7ms/step - loss: 0.0140 - accuracy: 0.9973 - val_loss: 0.0124 - val_accuracy: 0.9973\n",
            "Epoch 4/20\n",
            "8262/8262 [==============================] - 62s 8ms/step - loss: 0.0137 - accuracy: 0.9973 - val_loss: 0.0121 - val_accuracy: 0.9973\n",
            "Epoch 5/20\n",
            "8262/8262 [==============================] - 66s 8ms/step - loss: 0.0134 - accuracy: 0.9973 - val_loss: 0.0118 - val_accuracy: 0.9973\n",
            "Epoch 6/20\n",
            "8262/8262 [==============================] - 70s 8ms/step - loss: 0.0131 - accuracy: 0.9973 - val_loss: 0.0119 - val_accuracy: 0.9973\n",
            "Epoch 7/20\n",
            "8262/8262 [==============================] - 64s 8ms/step - loss: 0.0129 - accuracy: 0.9973 - val_loss: 0.0115 - val_accuracy: 0.9973\n",
            "Epoch 8/20\n",
            "8262/8262 [==============================] - 65s 8ms/step - loss: 0.0127 - accuracy: 0.9973 - val_loss: 0.0117 - val_accuracy: 0.9973\n",
            "Epoch 9/20\n",
            "8262/8262 [==============================] - 62s 7ms/step - loss: 0.0126 - accuracy: 0.9973 - val_loss: 0.0114 - val_accuracy: 0.9973\n",
            "Epoch 10/20\n",
            "2092/8262 [======>.......................] - ETA: 41s - loss: 0.0124 - accuracy: 0.9973"
          ]
        }
      ]
    },
    {
      "cell_type": "code",
      "source": [
        "y_pred = (model.predict(X_test) > 0.5).astype(\"int32\")\n",
        "accuracy = accuracy_score(y_test, y_pred)\n",
        "conf_matrix = confusion_matrix(y_test, y_pred)\n",
        "\n",
        "print(f'Accuracy: {accuracy}')\n",
        "print(f'Confusion Matrix:\\n{conf_matrix}')"
      ],
      "metadata": {
        "colab": {
          "base_uri": "https://localhost:8080/"
        },
        "id": "63pFvXSQFHdw",
        "outputId": "a946dc5a-6f02-4fd7-98c3-6f9a6d0de94f"
      },
      "execution_count": null,
      "outputs": [
        {
          "output_type": "stream",
          "name": "stdout",
          "text": [
            "1/1 [==============================] - 2s 2s/step\n",
            "Accuracy: 1.0\n",
            "Confusion Matrix:\n",
            "[[1]]\n"
          ]
        }
      ]
    },
    {
      "cell_type": "code",
      "source": [],
      "metadata": {
        "id": "BZYCfDZ4FOlX"
      },
      "execution_count": null,
      "outputs": []
    }
  ]
}