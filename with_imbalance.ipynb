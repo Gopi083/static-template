{
  "cells": [
    {
      "cell_type": "markdown",
      "metadata": {
        "id": "view-in-github",
        "colab_type": "text"
      },
      "source": [
        "<a href=\"https://colab.research.google.com/github/Gopi083/static-template/blob/master/with_imbalance.ipynb\" target=\"_parent\"><img src=\"https://colab.research.google.com/assets/colab-badge.svg\" alt=\"Open In Colab\"/></a>"
      ]
    },
    {
      "cell_type": "code",
      "execution_count": 1,
      "metadata": {
        "id": "uMlcjKz1M1va"
      },
      "outputs": [],
      "source": [
        "import numpy as np\n",
        "import pandas as pd\n",
        "from sklearn.model_selection import train_test_split\n",
        "from sklearn.preprocessing import StandardScaler\n",
        "from sklearn.metrics import confusion_matrix, accuracy_score\n",
        "from tensorflow.keras.models import Sequential\n",
        "from tensorflow.keras.layers import LSTM, Dense, Dropout\n",
        "from tensorflow.keras.optimizers import Adam"
      ]
    },
    {
      "cell_type": "code",
      "execution_count": 2,
      "metadata": {
        "id": "ELp2tiLaM3uH"
      },
      "outputs": [],
      "source": [
        "df=pd.read_csv('/content/p20.csv')"
      ]
    },
    {
      "cell_type": "code",
      "execution_count": 3,
      "metadata": {
        "colab": {
          "base_uri": "https://localhost:8080/"
        },
        "id": "JVGZFFwuNB_n",
        "outputId": "42bee199-ef08-4172-f03b-96b6f90925ea"
      },
      "outputs": [
        {
          "output_type": "stream",
          "name": "stdout",
          "text": [
            "<class 'pandas.core.frame.DataFrame'>\n",
            "RangeIndex: 263729 entries, 0 to 263728\n",
            "Data columns (total 24 columns):\n",
            " #   Column       Non-Null Count   Dtype  \n",
            "---  ------       --------------   -----  \n",
            " 0   Unnamed: 0   263729 non-null  int64  \n",
            " 1   Date         263729 non-null  object \n",
            " 2   User         263729 non-null  object \n",
            " 3   L1_norm      263729 non-null  float64\n",
            " 4   L2_norm      263729 non-null  float64\n",
            " 5   L3_norm      263729 non-null  float64\n",
            " 6   L4_norm      263729 non-null  float64\n",
            " 7   L5_norm      263729 non-null  float64\n",
            " 8   L6_norm      263729 non-null  float64\n",
            " 9   L7_norm      263729 non-null  float64\n",
            " 10  L8_norm      263729 non-null  float64\n",
            " 11  L9_norm      263729 non-null  float64\n",
            " 12  E1_norm      263729 non-null  float64\n",
            " 13  E2_norm      263729 non-null  float64\n",
            " 14  E3_norm      263728 non-null  float64\n",
            " 15  E4_norm      263728 non-null  float64\n",
            " 16  E5_norm      263728 non-null  float64\n",
            " 17  F1_norm      263728 non-null  float64\n",
            " 18  H1_norm      263728 non-null  float64\n",
            " 19  H2_norm      263728 non-null  float64\n",
            " 20  H3_norm      263728 non-null  float64\n",
            " 21  D1_norm      263728 non-null  float64\n",
            " 22  D2_norm      263728 non-null  float64\n",
            " 23  Class_Label  263728 non-null  float64\n",
            "dtypes: float64(21), int64(1), object(2)\n",
            "memory usage: 48.3+ MB\n"
          ]
        }
      ],
      "source": [
        "df.info()"
      ]
    },
    {
      "cell_type": "code",
      "execution_count": 4,
      "metadata": {
        "id": "3cepHSt7NH7e"
      },
      "outputs": [],
      "source": [
        "del df[df.columns[0]]"
      ]
    },
    {
      "cell_type": "code",
      "execution_count": 5,
      "metadata": {
        "id": "Xrl9nS5-NH-f"
      },
      "outputs": [],
      "source": [
        "y=df['Class_Label']"
      ]
    },
    {
      "cell_type": "code",
      "execution_count": 6,
      "metadata": {
        "colab": {
          "base_uri": "https://localhost:8080/"
        },
        "id": "HpqCghXMNIEh",
        "outputId": "c9a32c34-c5e3-406e-a887-3734d5a6dc3d"
      },
      "outputs": [
        {
          "output_type": "stream",
          "name": "stdout",
          "text": [
            "<class 'pandas.core.series.Series'>\n",
            "RangeIndex: 263729 entries, 0 to 263728\n",
            "Series name: Class_Label\n",
            "Non-Null Count   Dtype  \n",
            "--------------   -----  \n",
            "263728 non-null  float64\n",
            "dtypes: float64(1)\n",
            "memory usage: 2.0 MB\n"
          ]
        }
      ],
      "source": [
        "y.info()"
      ]
    },
    {
      "cell_type": "code",
      "execution_count": 7,
      "metadata": {
        "id": "27fmyH_rNSS_"
      },
      "outputs": [],
      "source": [
        "df=df.drop(['Date'],axis=1)"
      ]
    },
    {
      "cell_type": "code",
      "execution_count": 8,
      "metadata": {
        "id": "jLAWamiLNSYx"
      },
      "outputs": [],
      "source": [
        "df=df.drop(['User'],axis=1)"
      ]
    },
    {
      "cell_type": "code",
      "execution_count": 9,
      "metadata": {
        "id": "19nS2qbTg6ZF"
      },
      "outputs": [],
      "source": [
        "# Extract features and labels\n",
        "X = df.drop('Class_Label', axis=1).values\n",
        "y = df['Class_Label'].values\n"
      ]
    },
    {
      "cell_type": "code",
      "execution_count": 10,
      "metadata": {
        "colab": {
          "base_uri": "https://localhost:8080/",
          "height": 256
        },
        "id": "ccb3dFU_NS2G",
        "outputId": "1cd50dab-4e01-40d8-a81d-b8f8a0af49b3"
      },
      "outputs": [
        {
          "output_type": "execute_result",
          "data": {
            "text/plain": [
              "    L1_norm   L2_norm  L3_norm  L4_norm  L5_norm  L6_norm  L7_norm  L8_norm  \\\n",
              "0  0.884238  0.206870      0.0      0.0      0.5      0.0      0.0      0.0   \n",
              "1  0.871422  0.402637      0.0      0.0      1.0      0.0      1.0      0.0   \n",
              "2  0.743272  0.467814      0.0      0.0      1.0      0.0      1.0      0.0   \n",
              "3  0.704827  0.183623      0.0      0.0      0.0      0.0      0.0      0.0   \n",
              "4  0.704827  0.183623      0.0      0.0      0.0      0.0      0.0      0.0   \n",
              "\n",
              "   L9_norm   E1_norm  ...   E3_norm   E4_norm   E5_norm  F1_norm  H1_norm  \\\n",
              "0      0.0  0.500000  ...  0.416667  0.766336  0.500000      0.0      0.0   \n",
              "1      0.0  0.222222  ...  0.666667  0.552669  0.431818      0.0      0.0   \n",
              "2      0.0  0.555556  ...  1.000000  0.703614  0.477273      0.0      0.0   \n",
              "3      0.0  0.388889  ...  0.166667  0.637735  0.409091      0.0      0.0   \n",
              "4      0.0  0.166667  ...  0.000000  0.708862  0.090909      0.0      0.0   \n",
              "\n",
              "    H2_norm  H3_norm  D1_norm   D2_norm  Class_Label  \n",
              "0  0.071429      0.0      0.0  0.000000          0.0  \n",
              "1  0.000000      0.0      0.0  0.333333          0.0  \n",
              "2  0.035714      0.0      0.0  0.000000          0.0  \n",
              "3  0.000000      0.0      0.0  0.777778          0.0  \n",
              "4  0.000000      0.0      0.0  0.000000          0.0  \n",
              "\n",
              "[5 rows x 21 columns]"
            ],
            "text/html": [
              "\n",
              "  <div id=\"df-ddf98756-ad8f-4514-ac62-e7792fcfe8cf\" class=\"colab-df-container\">\n",
              "    <div>\n",
              "<style scoped>\n",
              "    .dataframe tbody tr th:only-of-type {\n",
              "        vertical-align: middle;\n",
              "    }\n",
              "\n",
              "    .dataframe tbody tr th {\n",
              "        vertical-align: top;\n",
              "    }\n",
              "\n",
              "    .dataframe thead th {\n",
              "        text-align: right;\n",
              "    }\n",
              "</style>\n",
              "<table border=\"1\" class=\"dataframe\">\n",
              "  <thead>\n",
              "    <tr style=\"text-align: right;\">\n",
              "      <th></th>\n",
              "      <th>L1_norm</th>\n",
              "      <th>L2_norm</th>\n",
              "      <th>L3_norm</th>\n",
              "      <th>L4_norm</th>\n",
              "      <th>L5_norm</th>\n",
              "      <th>L6_norm</th>\n",
              "      <th>L7_norm</th>\n",
              "      <th>L8_norm</th>\n",
              "      <th>L9_norm</th>\n",
              "      <th>E1_norm</th>\n",
              "      <th>...</th>\n",
              "      <th>E3_norm</th>\n",
              "      <th>E4_norm</th>\n",
              "      <th>E5_norm</th>\n",
              "      <th>F1_norm</th>\n",
              "      <th>H1_norm</th>\n",
              "      <th>H2_norm</th>\n",
              "      <th>H3_norm</th>\n",
              "      <th>D1_norm</th>\n",
              "      <th>D2_norm</th>\n",
              "      <th>Class_Label</th>\n",
              "    </tr>\n",
              "  </thead>\n",
              "  <tbody>\n",
              "    <tr>\n",
              "      <th>0</th>\n",
              "      <td>0.884238</td>\n",
              "      <td>0.206870</td>\n",
              "      <td>0.0</td>\n",
              "      <td>0.0</td>\n",
              "      <td>0.5</td>\n",
              "      <td>0.0</td>\n",
              "      <td>0.0</td>\n",
              "      <td>0.0</td>\n",
              "      <td>0.0</td>\n",
              "      <td>0.500000</td>\n",
              "      <td>...</td>\n",
              "      <td>0.416667</td>\n",
              "      <td>0.766336</td>\n",
              "      <td>0.500000</td>\n",
              "      <td>0.0</td>\n",
              "      <td>0.0</td>\n",
              "      <td>0.071429</td>\n",
              "      <td>0.0</td>\n",
              "      <td>0.0</td>\n",
              "      <td>0.000000</td>\n",
              "      <td>0.0</td>\n",
              "    </tr>\n",
              "    <tr>\n",
              "      <th>1</th>\n",
              "      <td>0.871422</td>\n",
              "      <td>0.402637</td>\n",
              "      <td>0.0</td>\n",
              "      <td>0.0</td>\n",
              "      <td>1.0</td>\n",
              "      <td>0.0</td>\n",
              "      <td>1.0</td>\n",
              "      <td>0.0</td>\n",
              "      <td>0.0</td>\n",
              "      <td>0.222222</td>\n",
              "      <td>...</td>\n",
              "      <td>0.666667</td>\n",
              "      <td>0.552669</td>\n",
              "      <td>0.431818</td>\n",
              "      <td>0.0</td>\n",
              "      <td>0.0</td>\n",
              "      <td>0.000000</td>\n",
              "      <td>0.0</td>\n",
              "      <td>0.0</td>\n",
              "      <td>0.333333</td>\n",
              "      <td>0.0</td>\n",
              "    </tr>\n",
              "    <tr>\n",
              "      <th>2</th>\n",
              "      <td>0.743272</td>\n",
              "      <td>0.467814</td>\n",
              "      <td>0.0</td>\n",
              "      <td>0.0</td>\n",
              "      <td>1.0</td>\n",
              "      <td>0.0</td>\n",
              "      <td>1.0</td>\n",
              "      <td>0.0</td>\n",
              "      <td>0.0</td>\n",
              "      <td>0.555556</td>\n",
              "      <td>...</td>\n",
              "      <td>1.000000</td>\n",
              "      <td>0.703614</td>\n",
              "      <td>0.477273</td>\n",
              "      <td>0.0</td>\n",
              "      <td>0.0</td>\n",
              "      <td>0.035714</td>\n",
              "      <td>0.0</td>\n",
              "      <td>0.0</td>\n",
              "      <td>0.000000</td>\n",
              "      <td>0.0</td>\n",
              "    </tr>\n",
              "    <tr>\n",
              "      <th>3</th>\n",
              "      <td>0.704827</td>\n",
              "      <td>0.183623</td>\n",
              "      <td>0.0</td>\n",
              "      <td>0.0</td>\n",
              "      <td>0.0</td>\n",
              "      <td>0.0</td>\n",
              "      <td>0.0</td>\n",
              "      <td>0.0</td>\n",
              "      <td>0.0</td>\n",
              "      <td>0.388889</td>\n",
              "      <td>...</td>\n",
              "      <td>0.166667</td>\n",
              "      <td>0.637735</td>\n",
              "      <td>0.409091</td>\n",
              "      <td>0.0</td>\n",
              "      <td>0.0</td>\n",
              "      <td>0.000000</td>\n",
              "      <td>0.0</td>\n",
              "      <td>0.0</td>\n",
              "      <td>0.777778</td>\n",
              "      <td>0.0</td>\n",
              "    </tr>\n",
              "    <tr>\n",
              "      <th>4</th>\n",
              "      <td>0.704827</td>\n",
              "      <td>0.183623</td>\n",
              "      <td>0.0</td>\n",
              "      <td>0.0</td>\n",
              "      <td>0.0</td>\n",
              "      <td>0.0</td>\n",
              "      <td>0.0</td>\n",
              "      <td>0.0</td>\n",
              "      <td>0.0</td>\n",
              "      <td>0.166667</td>\n",
              "      <td>...</td>\n",
              "      <td>0.000000</td>\n",
              "      <td>0.708862</td>\n",
              "      <td>0.090909</td>\n",
              "      <td>0.0</td>\n",
              "      <td>0.0</td>\n",
              "      <td>0.000000</td>\n",
              "      <td>0.0</td>\n",
              "      <td>0.0</td>\n",
              "      <td>0.000000</td>\n",
              "      <td>0.0</td>\n",
              "    </tr>\n",
              "  </tbody>\n",
              "</table>\n",
              "<p>5 rows × 21 columns</p>\n",
              "</div>\n",
              "    <div class=\"colab-df-buttons\">\n",
              "\n",
              "  <div class=\"colab-df-container\">\n",
              "    <button class=\"colab-df-convert\" onclick=\"convertToInteractive('df-ddf98756-ad8f-4514-ac62-e7792fcfe8cf')\"\n",
              "            title=\"Convert this dataframe to an interactive table.\"\n",
              "            style=\"display:none;\">\n",
              "\n",
              "  <svg xmlns=\"http://www.w3.org/2000/svg\" height=\"24px\" viewBox=\"0 -960 960 960\">\n",
              "    <path d=\"M120-120v-720h720v720H120Zm60-500h600v-160H180v160Zm220 220h160v-160H400v160Zm0 220h160v-160H400v160ZM180-400h160v-160H180v160Zm440 0h160v-160H620v160ZM180-180h160v-160H180v160Zm440 0h160v-160H620v160Z\"/>\n",
              "  </svg>\n",
              "    </button>\n",
              "\n",
              "  <style>\n",
              "    .colab-df-container {\n",
              "      display:flex;\n",
              "      gap: 12px;\n",
              "    }\n",
              "\n",
              "    .colab-df-convert {\n",
              "      background-color: #E8F0FE;\n",
              "      border: none;\n",
              "      border-radius: 50%;\n",
              "      cursor: pointer;\n",
              "      display: none;\n",
              "      fill: #1967D2;\n",
              "      height: 32px;\n",
              "      padding: 0 0 0 0;\n",
              "      width: 32px;\n",
              "    }\n",
              "\n",
              "    .colab-df-convert:hover {\n",
              "      background-color: #E2EBFA;\n",
              "      box-shadow: 0px 1px 2px rgba(60, 64, 67, 0.3), 0px 1px 3px 1px rgba(60, 64, 67, 0.15);\n",
              "      fill: #174EA6;\n",
              "    }\n",
              "\n",
              "    .colab-df-buttons div {\n",
              "      margin-bottom: 4px;\n",
              "    }\n",
              "\n",
              "    [theme=dark] .colab-df-convert {\n",
              "      background-color: #3B4455;\n",
              "      fill: #D2E3FC;\n",
              "    }\n",
              "\n",
              "    [theme=dark] .colab-df-convert:hover {\n",
              "      background-color: #434B5C;\n",
              "      box-shadow: 0px 1px 3px 1px rgba(0, 0, 0, 0.15);\n",
              "      filter: drop-shadow(0px 1px 2px rgba(0, 0, 0, 0.3));\n",
              "      fill: #FFFFFF;\n",
              "    }\n",
              "  </style>\n",
              "\n",
              "    <script>\n",
              "      const buttonEl =\n",
              "        document.querySelector('#df-ddf98756-ad8f-4514-ac62-e7792fcfe8cf button.colab-df-convert');\n",
              "      buttonEl.style.display =\n",
              "        google.colab.kernel.accessAllowed ? 'block' : 'none';\n",
              "\n",
              "      async function convertToInteractive(key) {\n",
              "        const element = document.querySelector('#df-ddf98756-ad8f-4514-ac62-e7792fcfe8cf');\n",
              "        const dataTable =\n",
              "          await google.colab.kernel.invokeFunction('convertToInteractive',\n",
              "                                                    [key], {});\n",
              "        if (!dataTable) return;\n",
              "\n",
              "        const docLinkHtml = 'Like what you see? Visit the ' +\n",
              "          '<a target=\"_blank\" href=https://colab.research.google.com/notebooks/data_table.ipynb>data table notebook</a>'\n",
              "          + ' to learn more about interactive tables.';\n",
              "        element.innerHTML = '';\n",
              "        dataTable['output_type'] = 'display_data';\n",
              "        await google.colab.output.renderOutput(dataTable, element);\n",
              "        const docLink = document.createElement('div');\n",
              "        docLink.innerHTML = docLinkHtml;\n",
              "        element.appendChild(docLink);\n",
              "      }\n",
              "    </script>\n",
              "  </div>\n",
              "\n",
              "\n",
              "<div id=\"df-4ce6f75a-f6f2-444f-873a-ddd63f21708c\">\n",
              "  <button class=\"colab-df-quickchart\" onclick=\"quickchart('df-4ce6f75a-f6f2-444f-873a-ddd63f21708c')\"\n",
              "            title=\"Suggest charts\"\n",
              "            style=\"display:none;\">\n",
              "\n",
              "<svg xmlns=\"http://www.w3.org/2000/svg\" height=\"24px\"viewBox=\"0 0 24 24\"\n",
              "     width=\"24px\">\n",
              "    <g>\n",
              "        <path d=\"M19 3H5c-1.1 0-2 .9-2 2v14c0 1.1.9 2 2 2h14c1.1 0 2-.9 2-2V5c0-1.1-.9-2-2-2zM9 17H7v-7h2v7zm4 0h-2V7h2v10zm4 0h-2v-4h2v4z\"/>\n",
              "    </g>\n",
              "</svg>\n",
              "  </button>\n",
              "\n",
              "<style>\n",
              "  .colab-df-quickchart {\n",
              "      --bg-color: #E8F0FE;\n",
              "      --fill-color: #1967D2;\n",
              "      --hover-bg-color: #E2EBFA;\n",
              "      --hover-fill-color: #174EA6;\n",
              "      --disabled-fill-color: #AAA;\n",
              "      --disabled-bg-color: #DDD;\n",
              "  }\n",
              "\n",
              "  [theme=dark] .colab-df-quickchart {\n",
              "      --bg-color: #3B4455;\n",
              "      --fill-color: #D2E3FC;\n",
              "      --hover-bg-color: #434B5C;\n",
              "      --hover-fill-color: #FFFFFF;\n",
              "      --disabled-bg-color: #3B4455;\n",
              "      --disabled-fill-color: #666;\n",
              "  }\n",
              "\n",
              "  .colab-df-quickchart {\n",
              "    background-color: var(--bg-color);\n",
              "    border: none;\n",
              "    border-radius: 50%;\n",
              "    cursor: pointer;\n",
              "    display: none;\n",
              "    fill: var(--fill-color);\n",
              "    height: 32px;\n",
              "    padding: 0;\n",
              "    width: 32px;\n",
              "  }\n",
              "\n",
              "  .colab-df-quickchart:hover {\n",
              "    background-color: var(--hover-bg-color);\n",
              "    box-shadow: 0 1px 2px rgba(60, 64, 67, 0.3), 0 1px 3px 1px rgba(60, 64, 67, 0.15);\n",
              "    fill: var(--button-hover-fill-color);\n",
              "  }\n",
              "\n",
              "  .colab-df-quickchart-complete:disabled,\n",
              "  .colab-df-quickchart-complete:disabled:hover {\n",
              "    background-color: var(--disabled-bg-color);\n",
              "    fill: var(--disabled-fill-color);\n",
              "    box-shadow: none;\n",
              "  }\n",
              "\n",
              "  .colab-df-spinner {\n",
              "    border: 2px solid var(--fill-color);\n",
              "    border-color: transparent;\n",
              "    border-bottom-color: var(--fill-color);\n",
              "    animation:\n",
              "      spin 1s steps(1) infinite;\n",
              "  }\n",
              "\n",
              "  @keyframes spin {\n",
              "    0% {\n",
              "      border-color: transparent;\n",
              "      border-bottom-color: var(--fill-color);\n",
              "      border-left-color: var(--fill-color);\n",
              "    }\n",
              "    20% {\n",
              "      border-color: transparent;\n",
              "      border-left-color: var(--fill-color);\n",
              "      border-top-color: var(--fill-color);\n",
              "    }\n",
              "    30% {\n",
              "      border-color: transparent;\n",
              "      border-left-color: var(--fill-color);\n",
              "      border-top-color: var(--fill-color);\n",
              "      border-right-color: var(--fill-color);\n",
              "    }\n",
              "    40% {\n",
              "      border-color: transparent;\n",
              "      border-right-color: var(--fill-color);\n",
              "      border-top-color: var(--fill-color);\n",
              "    }\n",
              "    60% {\n",
              "      border-color: transparent;\n",
              "      border-right-color: var(--fill-color);\n",
              "    }\n",
              "    80% {\n",
              "      border-color: transparent;\n",
              "      border-right-color: var(--fill-color);\n",
              "      border-bottom-color: var(--fill-color);\n",
              "    }\n",
              "    90% {\n",
              "      border-color: transparent;\n",
              "      border-bottom-color: var(--fill-color);\n",
              "    }\n",
              "  }\n",
              "</style>\n",
              "\n",
              "  <script>\n",
              "    async function quickchart(key) {\n",
              "      const quickchartButtonEl =\n",
              "        document.querySelector('#' + key + ' button');\n",
              "      quickchartButtonEl.disabled = true;  // To prevent multiple clicks.\n",
              "      quickchartButtonEl.classList.add('colab-df-spinner');\n",
              "      try {\n",
              "        const charts = await google.colab.kernel.invokeFunction(\n",
              "            'suggestCharts', [key], {});\n",
              "      } catch (error) {\n",
              "        console.error('Error during call to suggestCharts:', error);\n",
              "      }\n",
              "      quickchartButtonEl.classList.remove('colab-df-spinner');\n",
              "      quickchartButtonEl.classList.add('colab-df-quickchart-complete');\n",
              "    }\n",
              "    (() => {\n",
              "      let quickchartButtonEl =\n",
              "        document.querySelector('#df-4ce6f75a-f6f2-444f-873a-ddd63f21708c button');\n",
              "      quickchartButtonEl.style.display =\n",
              "        google.colab.kernel.accessAllowed ? 'block' : 'none';\n",
              "    })();\n",
              "  </script>\n",
              "</div>\n",
              "    </div>\n",
              "  </div>\n"
            ]
          },
          "metadata": {},
          "execution_count": 10
        }
      ],
      "source": [
        "df.head()"
      ]
    },
    {
      "cell_type": "code",
      "execution_count": 11,
      "metadata": {
        "id": "tHE1ocNrhJKB"
      },
      "outputs": [],
      "source": [
        "scaler = StandardScaler()\n",
        "X = scaler.fit_transform(X)\n"
      ]
    },
    {
      "cell_type": "code",
      "execution_count": 12,
      "metadata": {
        "id": "NVB-U7J5NS5x"
      },
      "outputs": [],
      "source": [
        "X=df"
      ]
    },
    {
      "cell_type": "code",
      "execution_count": 13,
      "metadata": {
        "id": "dZpgC2r8NctP"
      },
      "outputs": [],
      "source": [
        "X_train,X_test,y_train,y_test=train_test_split(X,y,test_size=0.2,random_state=42)"
      ]
    },
    {
      "cell_type": "code",
      "execution_count": null,
      "metadata": {
        "id": "tosQAmgeh8T7"
      },
      "outputs": [],
      "source": [
        "\n"
      ]
    },
    {
      "cell_type": "code",
      "source": [
        "# Reshape the data for LSTM input with sequential behavior\n",
        "\n",
        "X_train_array = X_train.to_numpy()\n",
        "X_test_array = X_test.to_numpy()\n",
        "\n",
        "# Reshape for LSTM input with sequential behavior\n",
        "X_train = X_train_array.reshape(X_train_array.shape[0], 1, X_train_array.shape[1])\n",
        "X_test = X_test_array.reshape(X_test_array.shape[0], 1, X_test_array.shape[1])"
      ],
      "metadata": {
        "id": "vi1aINlLvNCq"
      },
      "execution_count": 14,
      "outputs": []
    },
    {
      "cell_type": "code",
      "source": [
        "# Build the LSTM model\n",
        "model = Sequential()\n",
        "model.add(LSTM(units=32, return_sequences=True, input_shape=(X_train.shape[1], X_train.shape[2])))\n",
        "model.add(LSTM(units=32, return_sequences=True))\n",
        "model.add(LSTM(units=32))\n",
        "model.add(Dense(units=1, activation='sigmoid'))"
      ],
      "metadata": {
        "id": "mcsbD6goxrQC"
      },
      "execution_count": 15,
      "outputs": []
    },
    {
      "cell_type": "code",
      "source": [
        "# Compile the model\n",
        "model.compile(optimizer=Adam(learning_rate=0.001), loss='binary_crossentropy', metrics=['accuracy'])\n",
        "\n",
        "# Train the model\n",
        "model.fit(X_train, y_train, epochs=20, batch_size=32, validation_data=(X_test, y_test))"
      ],
      "metadata": {
        "colab": {
          "base_uri": "https://localhost:8080/"
        },
        "id": "NhxnmTvQxsHt",
        "outputId": "e5648c7e-ce77-4b81-9a09-c71c8f8257f9"
      },
      "execution_count": null,
      "outputs": [
        {
          "output_type": "stream",
          "name": "stdout",
          "text": [
            "Epoch 1/20\n",
            "6594/6594 [==============================] - 58s 8ms/step - loss: nan - accuracy: 0.9971 - val_loss: nan - val_accuracy: 0.9967\n",
            "Epoch 2/20\n",
            "6594/6594 [==============================] - 51s 8ms/step - loss: nan - accuracy: 0.9971 - val_loss: nan - val_accuracy: 0.9967\n",
            "Epoch 3/20\n",
            "6594/6594 [==============================] - 49s 7ms/step - loss: nan - accuracy: 0.9971 - val_loss: nan - val_accuracy: 0.9967\n",
            "Epoch 4/20\n",
            "6594/6594 [==============================] - 50s 8ms/step - loss: nan - accuracy: 0.9971 - val_loss: nan - val_accuracy: 0.9967\n",
            "Epoch 5/20\n",
            "6594/6594 [==============================] - 52s 8ms/step - loss: nan - accuracy: 0.9971 - val_loss: nan - val_accuracy: 0.9967\n",
            "Epoch 6/20\n",
            "6594/6594 [==============================] - 50s 8ms/step - loss: nan - accuracy: 0.9971 - val_loss: nan - val_accuracy: 0.9967\n",
            "Epoch 7/20\n",
            "6594/6594 [==============================] - 50s 8ms/step - loss: nan - accuracy: 0.9971 - val_loss: nan - val_accuracy: 0.9967\n",
            "Epoch 8/20\n",
            "6594/6594 [==============================] - 49s 7ms/step - loss: nan - accuracy: 0.9971 - val_loss: nan - val_accuracy: 0.9967\n",
            "Epoch 9/20\n",
            "6594/6594 [==============================] - 58s 9ms/step - loss: nan - accuracy: 0.9971 - val_loss: nan - val_accuracy: 0.9967\n",
            "Epoch 10/20\n",
            "6594/6594 [==============================] - 50s 8ms/step - loss: nan - accuracy: 0.9971 - val_loss: nan - val_accuracy: 0.9967\n",
            "Epoch 11/20\n",
            "6594/6594 [==============================] - 51s 8ms/step - loss: nan - accuracy: 0.9971 - val_loss: nan - val_accuracy: 0.9967\n",
            "Epoch 12/20\n",
            "6594/6594 [==============================] - 50s 8ms/step - loss: nan - accuracy: 0.9971 - val_loss: nan - val_accuracy: 0.9967\n",
            "Epoch 13/20\n",
            "6594/6594 [==============================] - 49s 7ms/step - loss: nan - accuracy: 0.9971 - val_loss: nan - val_accuracy: 0.9967\n",
            "Epoch 14/20\n",
            "6594/6594 [==============================] - 47s 7ms/step - loss: nan - accuracy: 0.9971 - val_loss: nan - val_accuracy: 0.9967\n",
            "Epoch 15/20\n",
            "6594/6594 [==============================] - 49s 7ms/step - loss: nan - accuracy: 0.9971 - val_loss: nan - val_accuracy: 0.9967\n",
            "Epoch 16/20\n",
            "6594/6594 [==============================] - 49s 7ms/step - loss: nan - accuracy: 0.9971 - val_loss: nan - val_accuracy: 0.9967\n",
            "Epoch 17/20\n",
            "6594/6594 [==============================] - 48s 7ms/step - loss: nan - accuracy: 0.9971 - val_loss: nan - val_accuracy: 0.9967\n",
            "Epoch 18/20\n",
            "6594/6594 [==============================] - 49s 7ms/step - loss: nan - accuracy: 0.9971 - val_loss: nan - val_accuracy: 0.9967\n",
            "Epoch 19/20\n",
            "4452/6594 [===================>..........] - ETA: 14s - loss: nan - accuracy: 0.9970"
          ]
        }
      ]
    },
    {
      "cell_type": "code",
      "source": [
        "# Evaluate the model\n",
        "y_pred = (model.predict(X_test) > 0.5).astype(\"int32\")\n",
        "accuracy = accuracy_score(y_test, y_pred)\n",
        "conf_matrix = confusion_matrix(y_test, y_pred)\n",
        "\n",
        "print(f'Accuracy: {accuracy}')\n",
        "print(f'Confusion Matrix:\\n{conf_matrix}')"
      ],
      "metadata": {
        "colab": {
          "base_uri": "https://localhost:8080/"
        },
        "id": "FwNDusFKxwmI",
        "outputId": "21f4f89c-3842-4bfa-a24a-f096973afddb"
      },
      "execution_count": null,
      "outputs": [
        {
          "output_type": "stream",
          "name": "stdout",
          "text": [
            "130/130 [==============================] - 2s 4ms/step\n",
            "Accuracy: 1.0\n",
            "Confusion Matrix:\n",
            "[[4156]]\n"
          ]
        }
      ]
    }
  ],
  "metadata": {
    "colab": {
      "provenance": [],
      "include_colab_link": true
    },
    "kernelspec": {
      "display_name": "Python 3",
      "name": "python3"
    },
    "language_info": {
      "name": "python"
    }
  },
  "nbformat": 4,
  "nbformat_minor": 0
}